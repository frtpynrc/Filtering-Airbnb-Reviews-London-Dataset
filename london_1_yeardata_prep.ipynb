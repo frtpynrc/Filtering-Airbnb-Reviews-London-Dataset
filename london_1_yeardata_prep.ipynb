{
 "cells": [
  {
   "cell_type": "code",
   "execution_count": 1,
   "id": "41defacf",
   "metadata": {},
   "outputs": [],
   "source": [
    "import pandas as pd\n",
    "df = pd.read_csv('reviews.csv')"
   ]
  },
  {
   "cell_type": "code",
   "execution_count": 7,
   "id": "97093319",
   "metadata": {},
   "outputs": [
    {
     "name": "stdout",
     "output_type": "stream",
     "text": [
      "<class 'pandas.core.frame.DataFrame'>\n",
      "RangeIndex: 515421 entries, 0 to 515420\n",
      "Data columns (total 6 columns):\n",
      " #   Column         Non-Null Count   Dtype         \n",
      "---  ------         --------------   -----         \n",
      " 0   listing_id     515421 non-null  int64         \n",
      " 1   id             515421 non-null  int64         \n",
      " 2   date           515421 non-null  datetime64[ns]\n",
      " 3   reviewer_id    515421 non-null  int64         \n",
      " 4   reviewer_name  515421 non-null  object        \n",
      " 5   comments       515358 non-null  object        \n",
      "dtypes: datetime64[ns](1), int64(3), object(2)\n",
      "memory usage: 23.6+ MB\n"
     ]
    }
   ],
   "source": [
    "df.info()"
   ]
  },
  {
   "cell_type": "code",
   "execution_count": 4,
   "id": "615b8605",
   "metadata": {},
   "outputs": [],
   "source": [
    "df['date'] = pd.to_datetime(df['date'])"
   ]
  },
  {
   "cell_type": "code",
   "execution_count": 5,
   "id": "bfbf5dba",
   "metadata": {},
   "outputs": [
    {
     "name": "stdout",
     "output_type": "stream",
     "text": [
      "<class 'pandas.core.frame.DataFrame'>\n",
      "RangeIndex: 515421 entries, 0 to 515420\n",
      "Data columns (total 6 columns):\n",
      " #   Column         Non-Null Count   Dtype         \n",
      "---  ------         --------------   -----         \n",
      " 0   listing_id     515421 non-null  int64         \n",
      " 1   id             515421 non-null  int64         \n",
      " 2   date           515421 non-null  datetime64[ns]\n",
      " 3   reviewer_id    515421 non-null  int64         \n",
      " 4   reviewer_name  515421 non-null  object        \n",
      " 5   comments       515358 non-null  object        \n",
      "dtypes: datetime64[ns](1), int64(3), object(2)\n",
      "memory usage: 23.6+ MB\n"
     ]
    }
   ],
   "source": [
    "# Create a mask to filter rows with dates on or after September 1, 2022\n",
    "mask = df['date'] >= '2022-09-01'\n",
    "\n",
    "# Apply the mask to keep rows where the date is on or after 2022-09-01\n",
    "df = df[mask]\n",
    "\n",
    "# Reset the index after dropping rows\n",
    "df.reset_index(drop=True, inplace=True)\n",
    "\n",
    "# Output DataFrame info to verify the result\n",
    "df.info()"
   ]
  },
  {
   "cell_type": "code",
   "execution_count": 6,
   "id": "a6566aa2",
   "metadata": {},
   "outputs": [],
   "source": [
    "df.to_csv('london1year.csv', index=False)"
   ]
  },
  {
   "cell_type": "code",
   "execution_count": null,
   "id": "04806c5b",
   "metadata": {},
   "outputs": [],
   "source": []
  }
 ],
 "metadata": {
  "kernelspec": {
   "display_name": "Python 3 (ipykernel)",
   "language": "python",
   "name": "python3"
  },
  "language_info": {
   "codemirror_mode": {
    "name": "ipython",
    "version": 3
   },
   "file_extension": ".py",
   "mimetype": "text/x-python",
   "name": "python",
   "nbconvert_exporter": "python",
   "pygments_lexer": "ipython3",
   "version": "3.9.13"
  }
 },
 "nbformat": 4,
 "nbformat_minor": 5
}
